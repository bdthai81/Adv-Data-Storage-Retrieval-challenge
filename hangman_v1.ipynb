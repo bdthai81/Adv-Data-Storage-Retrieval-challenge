{
  "nbformat": 4,
  "nbformat_minor": 0,
  "metadata": {
    "colab": {
      "name": "hangman_v1.ipynb",
      "version": "0.3.2",
      "provenance": [],
      "collapsed_sections": [],
      "include_colab_link": true
    },
    "kernelspec": {
      "name": "python3",
      "display_name": "Python 3"
    }
  },
  "cells": [
    {
      "cell_type": "markdown",
      "metadata": {
        "id": "view-in-github",
        "colab_type": "text"
      },
      "source": [
        "<a href=\"https://colab.research.google.com/github/bdthai81/Adv-Data-Storage-Retrieval-challenge/blob/master/hangman_v1.ipynb\" target=\"_parent\"><img src=\"https://colab.research.google.com/assets/colab-badge.svg\" alt=\"Open In Colab\"/></a>"
      ]
    },
    {
      "cell_type": "markdown",
      "metadata": {
        "id": "TTSobWzqxST3",
        "colab_type": "text"
      },
      "source": [
        "# Game rules\n",
        "- At the start of the game the computer/secret-keeper will choose a dictionary word\n",
        "- The guesser loses the game if they guess 6 letters that are not in the secret word\n",
        "- The guesser wins the game if they guess all letters in the secret word correctly and have\n",
        "not already lost the game per the conditions above\n"
      ]
    },
    {
      "cell_type": "markdown",
      "metadata": {
        "id": "_E0w2SHg3PKF",
        "colab_type": "text"
      },
      "source": [
        "# Initialize Game variables\n",
        "\n",
        "\n",
        "*   Get list of word from Linkedin API\n",
        "\n"
      ]
    },
    {
      "cell_type": "code",
      "metadata": {
        "id": "9lLvxXs_zaOM",
        "colab_type": "code",
        "colab": {}
      },
      "source": [
        "# Request words from linkedin API\n",
        "import requests\n",
        "response = requests.get('http://app.linkedin-reach.io/words')"
      ],
      "execution_count": 0,
      "outputs": []
    },
    {
      "cell_type": "code",
      "metadata": {
        "id": "1n9EqlJ409qt",
        "colab_type": "code",
        "colab": {
          "base_uri": "https://localhost:8080/",
          "height": 34
        },
        "outputId": "a330a4bc-527c-4787-eb19-6b75740ea83a"
      },
      "source": [
        "# Convert text response to List\n",
        "words_list = response.text.split()\n",
        "# Print the length of words_list\n",
        "len(words_list)"
      ],
      "execution_count": 2,
      "outputs": [
        {
          "output_type": "execute_result",
          "data": {
            "text/plain": [
              "162413"
            ]
          },
          "metadata": {
            "tags": []
          },
          "execution_count": 2
        }
      ]
    },
    {
      "cell_type": "markdown",
      "metadata": {
        "id": "kF_M4Rlu3D4u",
        "colab_type": "text"
      },
      "source": [
        "# Create Game"
      ]
    },
    {
      "cell_type": "markdown",
      "metadata": {
        "id": "o8tDY7Vq3u5X",
        "colab_type": "text"
      },
      "source": [
        "*   secret-keeper (computer)\n",
        "*   guesser (user)\n"
      ]
    },
    {
      "cell_type": "code",
      "metadata": {
        "id": "7pWcvgU11YgF",
        "colab_type": "code",
        "colab": {
          "base_uri": "https://localhost:8080/",
          "height": 34
        },
        "outputId": "73bd648b-099a-45af-84f4-3cdf360f5d4d"
      },
      "source": [
        "# Create random secret-keeper word from words_list\n",
        "import random\n",
        "\n",
        "secret_keeper_word = random.choice(words_list)\n",
        "secret_keeper_word.lower()"
      ],
      "execution_count": 3,
      "outputs": [
        {
          "output_type": "execute_result",
          "data": {
            "text/plain": [
              "'villainously'"
            ]
          },
          "metadata": {
            "tags": []
          },
          "execution_count": 3
        }
      ]
    },
    {
      "cell_type": "code",
      "metadata": {
        "id": "weIhSN-s4oPh",
        "colab_type": "code",
        "colab": {}
      },
      "source": [
        "import string\n",
        "\n",
        "# Create Class for hangman game\n",
        "class Hangman: \n",
        "    # Initialize class with secret keeper word and guesser's variable empty lists\n",
        "    def __init__(self, secret_keeper_word):\n",
        "        self.sk_word = secret_keeper_word  # secret-keeper-word\n",
        "        self.g_guess_list = [] # guesser's list of letter(s) guessed\n",
        "        self.g_correct_list = []  # guesser's list of letter(s) guessed correct\n",
        "        self.g_misses_list = [] # guesser's list of letter(s) guess missed\n",
        "        \n",
        "    # Check for duplicate input\n",
        "    def is_duplicate(self, guess):\n",
        "        if guess in self.g_guess_list:\n",
        "            return True\n",
        "        else:\n",
        "            return False\n",
        "        \n",
        "    # Check for letter input: a-z\n",
        "    def is_letter(self, guess):\n",
        "        if guess in string.ascii_lowercase:\n",
        "            return True\n",
        "        else:\n",
        "            return False    \n",
        "\n",
        "    # Check if guess letter is in word    \n",
        "    def check_in_word(self, guess):\n",
        "        if guess in self.sk_word:\n",
        "            # guess letter is within secret-keeper's word\n",
        "            # add guess letter into correct list\n",
        "            self.g_correct_list.append(guess)\n",
        "        else:\n",
        "            # guess letter is not within\n",
        "            # add guess letter into misses list\n",
        "            self.g_misses_list.append(guess) \n",
        "            \n",
        "        # add guess letter into guess list\n",
        "        self.g_guess_list.append(guess)\n",
        "            \n",
        "    # Check game ends\n",
        "    def check_game_ends(self, guess):\n",
        "        if len(self.g_misses_list)==6:\n",
        "            # 6 misses, end game: lose\n",
        "            print(\"You lose\")\n",
        "            return True\n",
        "        elif len(self.g_correct_list) == len(set(self.sk_word)):\n",
        "            # Word solved, end game: win\n",
        "            print(\"You win\")\n",
        "            return True\n",
        "         \n",
        "        return False\n",
        "    \n",
        "    # Function prints result outputs\n",
        "    def print_output(self, guess):\n",
        "        # Replace not guessed letters with '_'\n",
        "        output_word = self.sk_word\n",
        "        for output_letter in self.sk_word:\n",
        "            if output_letter not in self.g_correct_list:\n",
        "                output_word = output_word.replace(output_letter, '_')\n",
        "                \n",
        "        output = f\"\"\"Word: {' '.join(output_word)}\n",
        "        Guess:  {guess}\n",
        "        Misses: {', '.join(self.g_misses_list)}\n",
        "        Correct: {self.g_correct_list}\n",
        "        List: {self.g_guess_list}\n",
        "        Guesses remaining: {6-len(self.g_misses_list)}\"\"\"\n",
        "        \n",
        "        print(output)\n",
        "\n",
        "    # Request input letter\n",
        "    def input_letter(self, extra):\n",
        "        guess = input(f\"Please guess a letter{extra}:\")\n",
        "        \n",
        "        return guess"
      ],
      "execution_count": 0,
      "outputs": []
    },
    {
      "cell_type": "code",
      "metadata": {
        "id": "qZc16iKL6ide",
        "colab_type": "code",
        "colab": {
          "base_uri": "https://localhost:8080/",
          "height": 1000
        },
        "outputId": "ae7cf14e-b026-485f-e0e1-bf4f52db6530"
      },
      "source": [
        "hangman = Hangman(secret_keeper_word.lower())\n",
        "\n",
        "while(True):\n",
        "    guess = hangman.input_letter('')\n",
        "    \n",
        "    # Check for conditions:\n",
        "    # non empty string\n",
        "    # Repeat until non-duplicate input\n",
        "    # Repeat until single letter input\n",
        "    if guess and not hangman.is_duplicate(guess) and hangman.is_letter(guess):\n",
        "        # Convert letter to lowercase\n",
        "        guess = guess.lower()\n",
        "        \n",
        "        # Apply algorithm:\n",
        "        # Check to see if the letter is within the secret word\n",
        "        hangman.check_in_word(guess)\n",
        "        # Put out the results\n",
        "        hangman.print_output(guess)\n",
        "        # Check if end game conditions are met\n",
        "        if hangman.check_game_ends(guess):\n",
        "            break;\n",
        "    else:\n",
        "        # Print reasons for invalid input\n",
        "        if guess:\n",
        "            if hangman.is_duplicate(guess):\n",
        "                print('duplicate letter')\n",
        "            elif not hangman.is_letter(guess):\n",
        "                print('letter a-z only')\n",
        "        else:\n",
        "            print('empty letter')"
      ],
      "execution_count": 5,
      "outputs": [
        {
          "output_type": "stream",
          "text": [
            "Please guess a letter:v\n",
            "Word: v _ _ _ _ _ _ _ _ _ _ _\n",
            "        Guess:  v\n",
            "        Misses: \n",
            "        Correct: ['v']\n",
            "        List: ['v']\n",
            "        Guesses remaining: 6\n",
            "Please guess a letter:\n",
            "empty letter\n",
            "Please guess a letter:v\n",
            "duplicate letter\n",
            "Please guess a letter:2\n",
            "letter a-z only\n",
            "Please guess a letter:i\n",
            "Word: v i _ _ _ i _ _ _ _ _ _\n",
            "        Guess:  i\n",
            "        Misses: \n",
            "        Correct: ['v', 'i']\n",
            "        List: ['v', 'i']\n",
            "        Guesses remaining: 6\n",
            "Please guess a letter:a\n",
            "Word: v i _ _ a i _ _ _ _ _ _\n",
            "        Guess:  a\n",
            "        Misses: \n",
            "        Correct: ['v', 'i', 'a']\n",
            "        List: ['v', 'i', 'a']\n",
            "        Guesses remaining: 6\n",
            "Please guess a letter:s\n",
            "Word: v i _ _ a i _ _ _ s _ _\n",
            "        Guess:  s\n",
            "        Misses: \n",
            "        Correct: ['v', 'i', 'a', 's']\n",
            "        List: ['v', 'i', 'a', 's']\n",
            "        Guesses remaining: 6\n",
            "Please guess a letter:t\n",
            "Word: v i _ _ a i _ _ _ s _ _\n",
            "        Guess:  t\n",
            "        Misses: t\n",
            "        Correct: ['v', 'i', 'a', 's']\n",
            "        List: ['v', 'i', 'a', 's', 't']\n",
            "        Guesses remaining: 5\n",
            "Please guess a letter:t\n",
            "duplicate letter\n",
            "Please guess a letter:o\n",
            "Word: v i _ _ a i _ o _ s _ _\n",
            "        Guess:  o\n",
            "        Misses: t\n",
            "        Correct: ['v', 'i', 'a', 's', 'o']\n",
            "        List: ['v', 'i', 'a', 's', 't', 'o']\n",
            "        Guesses remaining: 5\n",
            "Please guess a letter:p\n",
            "Word: v i _ _ a i _ o _ s _ _\n",
            "        Guess:  p\n",
            "        Misses: t, p\n",
            "        Correct: ['v', 'i', 'a', 's', 'o']\n",
            "        List: ['v', 'i', 'a', 's', 't', 'o', 'p']\n",
            "        Guesses remaining: 4\n",
            "Please guess a letter:k\n",
            "Word: v i _ _ a i _ o _ s _ _\n",
            "        Guess:  k\n",
            "        Misses: t, p, k\n",
            "        Correct: ['v', 'i', 'a', 's', 'o']\n",
            "        List: ['v', 'i', 'a', 's', 't', 'o', 'p', 'k']\n",
            "        Guesses remaining: 3\n",
            "Please guess a letter:e\n",
            "Word: v i _ _ a i _ o _ s _ _\n",
            "        Guess:  e\n",
            "        Misses: t, p, k, e\n",
            "        Correct: ['v', 'i', 'a', 's', 'o']\n",
            "        List: ['v', 'i', 'a', 's', 't', 'o', 'p', 'k', 'e']\n",
            "        Guesses remaining: 2\n",
            "Please guess a letter:w\n",
            "Word: v i _ _ a i _ o _ s _ _\n",
            "        Guess:  w\n",
            "        Misses: t, p, k, e, w\n",
            "        Correct: ['v', 'i', 'a', 's', 'o']\n",
            "        List: ['v', 'i', 'a', 's', 't', 'o', 'p', 'k', 'e', 'w']\n",
            "        Guesses remaining: 1\n",
            "Please guess a letter:r\n",
            "Word: v i _ _ a i _ o _ s _ _\n",
            "        Guess:  r\n",
            "        Misses: t, p, k, e, w, r\n",
            "        Correct: ['v', 'i', 'a', 's', 'o']\n",
            "        List: ['v', 'i', 'a', 's', 't', 'o', 'p', 'k', 'e', 'w', 'r']\n",
            "        Guesses remaining: 0\n",
            "You lose\n"
          ],
          "name": "stdout"
        }
      ]
    },
    {
      "cell_type": "code",
      "metadata": {
        "id": "dkfwNDlXUrDI",
        "colab_type": "code",
        "colab": {}
      },
      "source": [
        ""
      ],
      "execution_count": 0,
      "outputs": []
    }
  ]
}